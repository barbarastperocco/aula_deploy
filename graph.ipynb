{
 "cells": [
  {
   "cell_type": "code",
   "execution_count": null,
   "id": "70dd7576",
   "metadata": {
    "vscode": {
     "languageId": "plaintext"
    }
   },
   "outputs": [],
   "source": [
    "import matplotlib.pyplot as plt\n",
    "import numpy as np\n",
    "\n",
    "# Dados de exemplo\n",
    "x = np.linspace(0, 2*np.pi, 400)\n",
    "y = np.sin(x) * np.exp(-x/6)\n",
    "\n",
    "plt.figure(figsize=(6,4))\n",
    "plt.plot(x, y, linewidth=2)\n",
    "plt.title(\"Exemplo de gráfico para entrega\")\n",
    "plt.xlabel(\"x\")\n",
    "plt.ylabel(\"sin(x) * exp(-x/6)\")\n",
    "plt.grid(True)\n",
    "plt.show()"
   ]
  }
 ],
 "metadata": {
  "language_info": {
   "name": "python"
  }
 },
 "nbformat": 4,
 "nbformat_minor": 5
}
